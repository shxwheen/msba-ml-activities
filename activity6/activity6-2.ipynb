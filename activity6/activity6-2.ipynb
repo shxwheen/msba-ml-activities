{
  "cells": [
    {
      "cell_type": "markdown",
      "metadata": {
        "id": "FdLoheP-mrxn"
      },
      "source": [
        "# Palmer Penguins Modeling\n",
        "\n",
        "Import the Palmer Penguins dataset and print out the first few rows.\n",
        "\n",
        "Suppose we want to predict `bill_depth_mm` using the other variables in the dataset.\n",
        "\n",
        "**Dummify** all variables that require this."
      ]
    },
    {
      "cell_type": "code",
      "execution_count": 1,
      "metadata": {
        "colab": {
          "base_uri": "https://localhost:8080/"
        },
        "collapsed": true,
        "id": "PgxVmHcyAx52",
        "outputId": "f26c8158-8a06-48d8-d92a-2d2d6d704706"
      },
      "outputs": [
        {
          "name": "stdout",
          "output_type": "stream",
          "text": [
            "Requirement already satisfied: palmerpenguins in c:\\users\\shawh\\anaconda3\\lib\\site-packages (0.1.4)\n",
            "Requirement already satisfied: pandas in c:\\users\\shawh\\anaconda3\\lib\\site-packages (from palmerpenguins) (2.2.3)\n",
            "Requirement already satisfied: numpy in c:\\users\\shawh\\anaconda3\\lib\\site-packages (from palmerpenguins) (2.1.3)\n",
            "Requirement already satisfied: python-dateutil>=2.8.2 in c:\\program files\\positron\\resources\\app\\extensions\\positron-python\\python_files\\lib\\ipykernel\\py3 (from pandas->palmerpenguins) (2.9.0.post0)\n",
            "Requirement already satisfied: pytz>=2020.1 in c:\\users\\shawh\\anaconda3\\lib\\site-packages (from pandas->palmerpenguins) (2024.1)\n",
            "Requirement already satisfied: tzdata>=2022.7 in c:\\users\\shawh\\anaconda3\\lib\\site-packages (from pandas->palmerpenguins) (2025.2)\n",
            "Requirement already satisfied: six>=1.5 in c:\\program files\\positron\\resources\\app\\extensions\\positron-python\\python_files\\lib\\ipykernel\\py3 (from python-dateutil>=2.8.2->pandas->palmerpenguins) (1.17.0)\n",
            "Note: you may need to restart the kernel to use updated packages.\n"
          ]
        }
      ],
      "source": [
        "%pip install palmerpenguins"
      ]
    },
    {
      "cell_type": "code",
      "execution_count": 2,
      "metadata": {
        "colab": {
          "base_uri": "https://localhost:8080/",
          "height": 226
        },
        "id": "N5lG475yllju",
        "outputId": "02a33502-eeac-4265-a828-996555749904"
      },
      "outputs": [
        {
          "data": {
            "text/html": [
              "<div>\n",
              "<style scoped>\n",
              "    .dataframe tbody tr th:only-of-type {\n",
              "        vertical-align: middle;\n",
              "    }\n",
              "\n",
              "    .dataframe tbody tr th {\n",
              "        vertical-align: top;\n",
              "    }\n",
              "\n",
              "    .dataframe thead th {\n",
              "        text-align: right;\n",
              "    }\n",
              "</style>\n",
              "<table border=\"1\" class=\"dataframe\">\n",
              "  <thead>\n",
              "    <tr style=\"text-align: right;\">\n",
              "      <th></th>\n",
              "      <th>species</th>\n",
              "      <th>island</th>\n",
              "      <th>bill_length_mm</th>\n",
              "      <th>bill_depth_mm</th>\n",
              "      <th>flipper_length_mm</th>\n",
              "      <th>body_mass_g</th>\n",
              "      <th>sex</th>\n",
              "      <th>year</th>\n",
              "    </tr>\n",
              "  </thead>\n",
              "  <tbody>\n",
              "    <tr>\n",
              "      <th>0</th>\n",
              "      <td>Adelie</td>\n",
              "      <td>Torgersen</td>\n",
              "      <td>39.1</td>\n",
              "      <td>18.7</td>\n",
              "      <td>181.0</td>\n",
              "      <td>3750.0</td>\n",
              "      <td>male</td>\n",
              "      <td>2007</td>\n",
              "    </tr>\n",
              "    <tr>\n",
              "      <th>1</th>\n",
              "      <td>Adelie</td>\n",
              "      <td>Torgersen</td>\n",
              "      <td>39.5</td>\n",
              "      <td>17.4</td>\n",
              "      <td>186.0</td>\n",
              "      <td>3800.0</td>\n",
              "      <td>female</td>\n",
              "      <td>2007</td>\n",
              "    </tr>\n",
              "    <tr>\n",
              "      <th>2</th>\n",
              "      <td>Adelie</td>\n",
              "      <td>Torgersen</td>\n",
              "      <td>40.3</td>\n",
              "      <td>18.0</td>\n",
              "      <td>195.0</td>\n",
              "      <td>3250.0</td>\n",
              "      <td>female</td>\n",
              "      <td>2007</td>\n",
              "    </tr>\n",
              "    <tr>\n",
              "      <th>3</th>\n",
              "      <td>Adelie</td>\n",
              "      <td>Torgersen</td>\n",
              "      <td>NaN</td>\n",
              "      <td>NaN</td>\n",
              "      <td>NaN</td>\n",
              "      <td>NaN</td>\n",
              "      <td>NaN</td>\n",
              "      <td>2007</td>\n",
              "    </tr>\n",
              "    <tr>\n",
              "      <th>4</th>\n",
              "      <td>Adelie</td>\n",
              "      <td>Torgersen</td>\n",
              "      <td>36.7</td>\n",
              "      <td>19.3</td>\n",
              "      <td>193.0</td>\n",
              "      <td>3450.0</td>\n",
              "      <td>female</td>\n",
              "      <td>2007</td>\n",
              "    </tr>\n",
              "  </tbody>\n",
              "</table>\n",
              "</div>"
            ],
            "text/plain": [
              "  species     island  bill_length_mm  ...  body_mass_g     sex  year\n",
              "0  Adelie  Torgersen            39.1  ...       3750.0    male  2007\n",
              "1  Adelie  Torgersen            39.5  ...       3800.0  female  2007\n",
              "2  Adelie  Torgersen            40.3  ...       3250.0  female  2007\n",
              "3  Adelie  Torgersen             NaN  ...          NaN     NaN  2007\n",
              "4  Adelie  Torgersen            36.7  ...       3450.0  female  2007\n",
              "\n",
              "[5 rows x 8 columns]"
            ]
          },
          "metadata": {},
          "output_type": "display_data"
        }
      ],
      "source": [
        "from sklearn.linear_model import *\n",
        "from plotnine import *\n",
        "from palmerpenguins import load_penguins\n",
        "import pandas as pd\n",
        "\n",
        "# load the dataset\n",
        "penguins_df = load_penguins()\n",
        "\n",
        "# display the first few rows\n",
        "display(penguins_df.head())"
      ]
    },
    {
      "cell_type": "markdown",
      "metadata": {
        "id": "TT1MVgaKm_gX"
      },
      "source": [
        "Let's use the other variables to predict `bill_depth_mm`. Prepare your data and fit the following models on a training dataset subset of the entire dataset:\n",
        "\n",
        "* Four different models, each containing a different set of predictor variables\n",
        "\n",
        "Create a plot like the right plot of Fig 1. in our `Model Validation` chapter with the training and test error plotted for each of your four models.\n",
        "\n",
        "Which of your models was best?"
      ]
    },
    {
      "cell_type": "code",
      "execution_count": 3,
      "metadata": {
        "colab": {
          "base_uri": "https://localhost:8080/",
          "height": 226
        },
        "id": "d91a0c85",
        "outputId": "17fa9a8a-1830-46bb-fea6-48d0422788b2"
      },
      "outputs": [
        {
          "data": {
            "text/html": [
              "<div>\n",
              "<style scoped>\n",
              "    .dataframe tbody tr th:only-of-type {\n",
              "        vertical-align: middle;\n",
              "    }\n",
              "\n",
              "    .dataframe tbody tr th {\n",
              "        vertical-align: top;\n",
              "    }\n",
              "\n",
              "    .dataframe thead th {\n",
              "        text-align: right;\n",
              "    }\n",
              "</style>\n",
              "<table border=\"1\" class=\"dataframe\">\n",
              "  <thead>\n",
              "    <tr style=\"text-align: right;\">\n",
              "      <th></th>\n",
              "      <th>bill_length_mm</th>\n",
              "      <th>bill_depth_mm</th>\n",
              "      <th>flipper_length_mm</th>\n",
              "      <th>body_mass_g</th>\n",
              "      <th>species_Adelie</th>\n",
              "      <th>species_Chinstrap</th>\n",
              "      <th>species_Gentoo</th>\n",
              "      <th>island_Biscoe</th>\n",
              "      <th>island_Dream</th>\n",
              "      <th>island_Torgersen</th>\n",
              "      <th>sex_female</th>\n",
              "      <th>sex_male</th>\n",
              "      <th>year_2007</th>\n",
              "      <th>year_2008</th>\n",
              "      <th>year_2009</th>\n",
              "    </tr>\n",
              "  </thead>\n",
              "  <tbody>\n",
              "    <tr>\n",
              "      <th>0</th>\n",
              "      <td>39.1</td>\n",
              "      <td>18.7</td>\n",
              "      <td>181.0</td>\n",
              "      <td>3750.0</td>\n",
              "      <td>1</td>\n",
              "      <td>0</td>\n",
              "      <td>0</td>\n",
              "      <td>0</td>\n",
              "      <td>0</td>\n",
              "      <td>1</td>\n",
              "      <td>0</td>\n",
              "      <td>1</td>\n",
              "      <td>1</td>\n",
              "      <td>0</td>\n",
              "      <td>0</td>\n",
              "    </tr>\n",
              "    <tr>\n",
              "      <th>1</th>\n",
              "      <td>39.5</td>\n",
              "      <td>17.4</td>\n",
              "      <td>186.0</td>\n",
              "      <td>3800.0</td>\n",
              "      <td>1</td>\n",
              "      <td>0</td>\n",
              "      <td>0</td>\n",
              "      <td>0</td>\n",
              "      <td>0</td>\n",
              "      <td>1</td>\n",
              "      <td>1</td>\n",
              "      <td>0</td>\n",
              "      <td>1</td>\n",
              "      <td>0</td>\n",
              "      <td>0</td>\n",
              "    </tr>\n",
              "    <tr>\n",
              "      <th>2</th>\n",
              "      <td>40.3</td>\n",
              "      <td>18.0</td>\n",
              "      <td>195.0</td>\n",
              "      <td>3250.0</td>\n",
              "      <td>1</td>\n",
              "      <td>0</td>\n",
              "      <td>0</td>\n",
              "      <td>0</td>\n",
              "      <td>0</td>\n",
              "      <td>1</td>\n",
              "      <td>1</td>\n",
              "      <td>0</td>\n",
              "      <td>1</td>\n",
              "      <td>0</td>\n",
              "      <td>0</td>\n",
              "    </tr>\n",
              "    <tr>\n",
              "      <th>4</th>\n",
              "      <td>36.7</td>\n",
              "      <td>19.3</td>\n",
              "      <td>193.0</td>\n",
              "      <td>3450.0</td>\n",
              "      <td>1</td>\n",
              "      <td>0</td>\n",
              "      <td>0</td>\n",
              "      <td>0</td>\n",
              "      <td>0</td>\n",
              "      <td>1</td>\n",
              "      <td>1</td>\n",
              "      <td>0</td>\n",
              "      <td>1</td>\n",
              "      <td>0</td>\n",
              "      <td>0</td>\n",
              "    </tr>\n",
              "    <tr>\n",
              "      <th>5</th>\n",
              "      <td>39.3</td>\n",
              "      <td>20.6</td>\n",
              "      <td>190.0</td>\n",
              "      <td>3650.0</td>\n",
              "      <td>1</td>\n",
              "      <td>0</td>\n",
              "      <td>0</td>\n",
              "      <td>0</td>\n",
              "      <td>0</td>\n",
              "      <td>1</td>\n",
              "      <td>0</td>\n",
              "      <td>1</td>\n",
              "      <td>1</td>\n",
              "      <td>0</td>\n",
              "      <td>0</td>\n",
              "    </tr>\n",
              "  </tbody>\n",
              "</table>\n",
              "</div>"
            ],
            "text/plain": [
              "   bill_length_mm  bill_depth_mm  ...  year_2008  year_2009\n",
              "0            39.1           18.7  ...          0          0\n",
              "1            39.5           17.4  ...          0          0\n",
              "2            40.3           18.0  ...          0          0\n",
              "4            36.7           19.3  ...          0          0\n",
              "5            39.3           20.6  ...          0          0\n",
              "\n",
              "[5 rows x 15 columns]"
            ]
          },
          "metadata": {},
          "output_type": "display_data"
        }
      ],
      "source": [
        "# dummify categorical variables and drop original categorical columns\n",
        "df_w_dummies = pd.get_dummies(penguins_df, columns=['species', 'island', 'sex', 'year'], dummy_na=False)\n",
        "\n",
        "# drop rows with any missing values\n",
        "df_w_dummies.dropna(inplace=True)\n",
        "\n",
        "# convert the dummy columns to integers (they are already True/False after get_dummies and dropna)\n",
        "dummy_cols = ['species_Adelie', 'species_Chinstrap', 'species_Gentoo', 'island_Biscoe', 'island_Dream', 'island_Torgersen', 'sex_female', 'sex_male', 'year_2007', 'year_2008','year_2009']\n",
        "df_w_dummies[dummy_cols] = df_w_dummies[dummy_cols].astype(int)\n",
        "\n",
        "# display the first few rows of the modified dataframe\n",
        "display(df_w_dummies.head())"
      ]
    },
    {
      "cell_type": "code",
      "execution_count": 4,
      "metadata": {
        "collapsed": true,
        "id": "907a5d4f"
      },
      "outputs": [],
      "source": [
        "from sklearn.model_selection import train_test_split\n",
        "\n",
        "# define x and y (predictor and response vars)\n",
        "X = df_w_dummies.drop('bill_depth_mm', axis=1)\n",
        "y = df_w_dummies['bill_depth_mm']\n",
        "\n",
        "# test train splitt\n",
        "X_train, X_test, y_train, y_test = train_test_split(X, y, test_size=0.25, random_state=321)"
      ]
    },
    {
      "cell_type": "code",
      "execution_count": 5,
      "metadata": {
        "colab": {
          "base_uri": "https://localhost:8080/"
        },
        "id": "7f41017e",
        "outputId": "6cb12f4d-f67f-4946-ac71-a2ca36e53a44"
      },
      "outputs": [
        {
          "name": "stdout",
          "output_type": "stream",
          "text": [
            "Model 1 (Numerical only) Predictors: ['bill_length_mm', 'flipper_length_mm', 'body_mass_g']\n",
            "\n",
            "Model 2 (Numerical + Species) Predictors: ['bill_length_mm', 'flipper_length_mm', 'body_mass_g', 'species_Adelie', 'species_Chinstrap', 'species_Gentoo']\n",
            "\n",
            "Model 3 (Numerical + Island + Sex) Predictors: ['bill_length_mm', 'flipper_length_mm', 'body_mass_g', 'island_Biscoe', 'island_Dream', 'island_Torgersen', 'sex_female', 'sex_male']\n",
            "\n",
            "Model 4 (All Predictors) Predictors: ['bill_length_mm', 'flipper_length_mm', 'body_mass_g', 'species_Adelie', 'species_Chinstrap', 'species_Gentoo', 'island_Biscoe', 'island_Dream', 'island_Torgersen', 'sex_female', 'sex_male', 'year_2007', 'year_2008', 'year_2009']\n",
            "\n"
          ]
        }
      ],
      "source": [
        "# define predictor sets\n",
        "\n",
        "# get all available predictor columns\n",
        "all_predictors = X_train.columns.tolist()\n",
        "\n",
        "# define four different sets of predictor variables\n",
        "model_predictors = {\n",
        "    'Model 1 (Numerical only)': ['bill_length_mm', 'flipper_length_mm', 'body_mass_g'],\n",
        "    'Model 2 (Numerical + Species)': ['bill_length_mm', 'flipper_length_mm', 'body_mass_g', 'species_Adelie', 'species_Chinstrap', 'species_Gentoo'],\n",
        "    'Model 3 (Numerical + Island + Sex)': ['bill_length_mm', 'flipper_length_mm', 'body_mass_g', 'island_Biscoe', 'island_Dream', 'island_Torgersen', 'sex_female', 'sex_male'],\n",
        "    'Model 4 (All Predictors)': all_predictors\n",
        "}\n",
        "\n",
        "# print the predictor sets to verify\n",
        "for model_name, predictors in model_predictors.items():\n",
        "    print(f\"{model_name} Predictors: {predictors}\\n\")"
      ]
    },
    {
      "cell_type": "code",
      "execution_count": 6,
      "metadata": {
        "colab": {
          "base_uri": "https://localhost:8080/",
          "height": 244
        },
        "id": "0d3d44bd",
        "outputId": "0c5dc72f-553d-488f-b5f3-1bc8957dd2e6"
      },
      "outputs": [
        {
          "name": "stdout",
          "output_type": "stream",
          "text": [
            "Training Model 1 (Numerical only)...\n",
            "Training Model 2 (Numerical + Species)...\n",
            "Training Model 3 (Numerical + Island + Sex)...\n",
            "Training Model 4 (All Predictors)...\n"
          ]
        },
        {
          "data": {
            "text/html": [
              "<div>\n",
              "<style scoped>\n",
              "    .dataframe tbody tr th:only-of-type {\n",
              "        vertical-align: middle;\n",
              "    }\n",
              "\n",
              "    .dataframe tbody tr th {\n",
              "        vertical-align: top;\n",
              "    }\n",
              "\n",
              "    .dataframe thead th {\n",
              "        text-align: right;\n",
              "    }\n",
              "</style>\n",
              "<table border=\"1\" class=\"dataframe\">\n",
              "  <thead>\n",
              "    <tr style=\"text-align: right;\">\n",
              "      <th></th>\n",
              "      <th>Model</th>\n",
              "      <th>Train Error</th>\n",
              "      <th>Test Error</th>\n",
              "    </tr>\n",
              "  </thead>\n",
              "  <tbody>\n",
              "    <tr>\n",
              "      <th>0</th>\n",
              "      <td>Model 1 (Numerical only)</td>\n",
              "      <td>2.316319</td>\n",
              "      <td>2.687671</td>\n",
              "    </tr>\n",
              "    <tr>\n",
              "      <th>1</th>\n",
              "      <td>Model 2 (Numerical + Species)</td>\n",
              "      <td>0.676940</td>\n",
              "      <td>0.770562</td>\n",
              "    </tr>\n",
              "    <tr>\n",
              "      <th>2</th>\n",
              "      <td>Model 3 (Numerical + Island + Sex)</td>\n",
              "      <td>1.027670</td>\n",
              "      <td>1.697204</td>\n",
              "    </tr>\n",
              "    <tr>\n",
              "      <th>3</th>\n",
              "      <td>Model 4 (All Predictors)</td>\n",
              "      <td>0.560773</td>\n",
              "      <td>0.745432</td>\n",
              "    </tr>\n",
              "  </tbody>\n",
              "</table>\n",
              "</div>"
            ],
            "text/plain": [
              "                                Model  Train Error  Test Error\n",
              "0            Model 1 (Numerical only)     2.316319    2.687671\n",
              "1       Model 2 (Numerical + Species)     0.676940    0.770562\n",
              "2  Model 3 (Numerical + Island + Sex)     1.027670    1.697204\n",
              "3            Model 4 (All Predictors)     0.560773    0.745432"
            ]
          },
          "metadata": {},
          "output_type": "display_data"
        }
      ],
      "source": [
        "from sklearn.linear_model import LinearRegression\n",
        "from sklearn.metrics import mean_squared_error\n",
        "import pandas as pd\n",
        "\n",
        "# train and evaluate models\n",
        "results = []\n",
        "\n",
        "for model_name, predictors in model_predictors.items():\n",
        "    print(f\"Training {model_name}...\")\n",
        "\n",
        "    # select the features for the current model\n",
        "    X_train_subset = X_train[predictors]\n",
        "    X_test_subset = X_test[predictors]\n",
        "\n",
        "    # initialize and train the LM model\n",
        "    model = LinearRegression()\n",
        "    model.fit(X_train_subset, y_train)\n",
        "\n",
        "    # predictions\n",
        "    y_train_pred = model.predict(X_train_subset)\n",
        "    y_test_pred = model.predict(X_test_subset)\n",
        "\n",
        "    # calc errors\n",
        "    train_error = mean_squared_error(y_train, y_train_pred)\n",
        "    test_error = mean_squared_error(y_test, y_test_pred)\n",
        "\n",
        "    # store results\n",
        "    results.append({'Model': model_name, 'Train Error': train_error, 'Test Error': test_error})\n",
        "\n",
        "# convert results to a DataFrame\n",
        "results_df = pd.DataFrame(results)\n",
        "\n",
        "# display the results\n",
        "display(results_df)"
      ]
    },
    {
      "cell_type": "code",
      "execution_count": 7,
      "metadata": {
        "colab": {
          "base_uri": "https://localhost:8080/",
          "height": 497
        },
        "id": "4whp11XekHkq",
        "outputId": "8b0f050e-bae9-4729-84e6-5b775dcb36ef"
      },
      "outputs": [
        {
          "data": {
            "image/png": "[encoded data removed]",
            "text/plain": [
              "<Figure size 640x480 with 1 Axes>"
            ]
          },
          "metadata": {},
          "output_type": "display_data"
        }
      ],
      "source": [
        "# columns: ['Model', 'Train Error', 'Test Error']\n",
        "\n",
        "# melt to long format\n",
        "results_melted = results_df.melt(\n",
        "    id_vars='Model',\n",
        "    value_vars=['Train Error', 'Test Error'],\n",
        "    var_name='Type',\n",
        "    value_name='MSE'\n",
        ")\n",
        "\n",
        "# plot\n",
        "flexibility_plot = (\n",
        "    # aes and plot type\n",
        "    ggplot(results_melted, aes(x='Model', y='MSE', color='Type', group='Type')) +\n",
        "    geom_point(size=3) +\n",
        "    geom_line(size=1) +\n",
        "    scale_color_manual(\n",
        "        values={'Train Error': 'red', 'Test Error': 'blue'}\n",
        "    ) +\n",
        "    # labels\n",
        "    labs(\n",
        "        title='Training vs Test Error for Each Model',\n",
        "        x='Model',\n",
        "        y='Mean Squared Error (MSE)',\n",
        "        color='Error Type'\n",
        "    ) +\n",
        "    theme_minimal() +\n",
        "    # fix format\n",
        "    theme(\n",
        "        axis_text_x=element_text(rotation=30, ha='right'),\n",
        "        plot_title=element_text(weight='bold', size=14)\n",
        "    )\n",
        ")\n",
        "\n",
        "flexibility_plot\n"
      ]
    },
    {
      "cell_type": "markdown",
      "metadata": {
        "id": "nOf45pZul9JU"
      },
      "source": [
        "# Results\n",
        "\n",
        "Model 2 and Model 4 were very close to each other with test errors of 0.770562 and 0.745432\n",
        "respectively. Model 2 used all numerical catergories plus species. Model 4 used all the available predictors. Model 4 may be overfitting compared to Model 2, as there is a larger gap between test and train errors.\n"
      ]
    }
  ],
  "metadata": {
    "colab": {
      "provenance": []
    },
    "kernelspec": {
      "display_name": "Python 3",
      "name": "python3"
    },
    "language_info": {
      "name": "python"
    }
  },
  "nbformat": 4,
  "nbformat_minor": 0
}
